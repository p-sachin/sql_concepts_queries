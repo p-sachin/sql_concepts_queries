{
 "cells": [
  {
   "attachments": {},
   "cell_type": "markdown",
   "metadata": {},
   "source": [
    "#### Database Management System"
   ]
  },
  {
   "attachments": {},
   "cell_type": "markdown",
   "metadata": {},
   "source": [
    "A special software program that helps users create and maintain a database. <br>\n",
    "1. Makes it easy to manage large amounts of information. <br>\n",
    "2. Handles security, backups. <br>\n",
    "3. Importing/exporting data. <br>\n",
    "4. Concurrency and interaction with software applications."
   ]
  },
  {
   "attachments": {},
   "cell_type": "markdown",
   "metadata": {},
   "source": [
    "#### CRUD (Create, Read, Update, Delete)"
   ]
  },
  {
   "attachments": {},
   "cell_type": "markdown",
   "metadata": {},
   "source": [
    "CRUD represents four major operation that is performed in the database."
   ]
  },
  {
   "attachments": {},
   "cell_type": "markdown",
   "metadata": {},
   "source": [
    "#### Two types of Databases (Relational/Non-Relational)"
   ]
  },
  {
   "attachments": {},
   "cell_type": "markdown",
   "metadata": {},
   "source": [
    "Relational Databases (SQL) - Organize data into one or more tables. Each table has rows and columns. <br>\n",
    "A unique key identifies each row. <br>\n",
    "Non-Relational Databaes (NoSQL) - Anytype of database that doesnot have relations. Key-value stores, XML, JSON, Graphs. <br>\n",
    "\n",
    "Relation Databases uses SQL and store data in tables with rows and columns. <br>\n",
    "Non Relational databases store data using other data structures."
   ]
  },
  {
   "cell_type": "markdown",
   "metadata": {},
   "source": []
  },
  {
   "cell_type": "markdown",
   "metadata": {},
   "source": []
  },
  {
   "cell_type": "markdown",
   "metadata": {},
   "source": []
  }
 ],
 "metadata": {
  "kernelspec": {
   "display_name": "Python 3",
   "language": "python",
   "name": "python3"
  },
  "language_info": {
   "codemirror_mode": {
    "name": "ipython",
    "version": 3
   },
   "file_extension": ".py",
   "mimetype": "text/x-python",
   "name": "python",
   "nbconvert_exporter": "python",
   "pygments_lexer": "ipython3",
   "version": "3.8.4"
  },
  "orig_nbformat": 4,
  "vscode": {
   "interpreter": {
    "hash": "9650cb4e16cdd4a8e8e2d128bf38d875813998db22a3c986335f89e0cb4d7bb2"
   }
  }
 },
 "nbformat": 4,
 "nbformat_minor": 2
}
