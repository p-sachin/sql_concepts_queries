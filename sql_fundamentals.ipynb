{
 "cells": [
  {
   "attachments": {},
   "cell_type": "markdown",
   "metadata": {},
   "source": [
    "#### Database Management System"
   ]
  },
  {
   "attachments": {},
   "cell_type": "markdown",
   "metadata": {},
   "source": [
    "A special software program that helps users create and maintain a database. <br>\n",
    "1. Makes it easy to manage large amounts of information. <br>\n",
    "2. Handles security, backups. <br>\n",
    "3. Importing/exporting data. <br>\n",
    "4. Concurrency and interaction with software applications."
   ]
  },
  {
   "attachments": {},
   "cell_type": "markdown",
   "metadata": {},
   "source": [
    "#### CRUD (Create, Read, Update, Delete)"
   ]
  },
  {
   "attachments": {},
   "cell_type": "markdown",
   "metadata": {},
   "source": [
    "CRUD represents four major operation that is performed in the database."
   ]
  },
  {
   "attachments": {},
   "cell_type": "markdown",
   "metadata": {},
   "source": [
    "#### Two types of Databases (Relational/Non-Relational)"
   ]
  },
  {
   "attachments": {},
   "cell_type": "markdown",
   "metadata": {},
   "source": [
    "Relational Databases (SQL) - Organize data into one or more tables. Each table has rows and columns. <br>\n",
    "A unique key identifies each row. <br>\n",
    "Non-Relational Databaes (NoSQL) - Anytype of database that doesnot have relations. Key-value stores, XML, JSON, Graphs. <br>\n",
    "\n",
    "Relation Databases uses SQL and store data in tables with rows and columns. <br>\n",
    "Non Relational databases store data using other data structures."
   ]
  },
  {
   "cell_type": "code",
   "execution_count": 73,
   "metadata": {},
   "outputs": [],
   "source": [
    "# Primary Key is an attribute which uniquely define a row in the  table.\n",
    "# Foreign Key stores the primary key of a row in another table."
   ]
  },
  {
   "attachments": {},
   "cell_type": "markdown",
   "metadata": {},
   "source": [
    "#### SQL (Hybrid Language) 4 types"
   ]
  },
  {
   "attachments": {},
   "cell_type": "markdown",
   "metadata": {},
   "source": [
    "1. Data Query Language (DQL) - Used to query the database for information. Get information that is already stored. <br>\n",
    "2. Data Definition Language (DDL) - Used for defining database schemas. <br>\n",
    "3. Data Control Language (DCL) - Used for controlling access to the data in the database. Users & permissions management. <br>\n",
    "4. Data Manipulation Language (DML) - Used for inserting, updating and deleting data from the database."
   ]
  },
  {
   "attachments": {},
   "cell_type": "markdown",
   "metadata": {},
   "source": [
    "<img src=\"database.png\" alt=\"Drawing\" style=\"width: 900px; height: 650px\"/>\n"
   ]
  },
  {
   "cell_type": "code",
   "execution_count": 1,
   "metadata": {},
   "outputs": [],
   "source": [
    "%load_ext sql\n",
    "%sql sqlite:///company_database.db"
   ]
  },
  {
   "attachments": {},
   "cell_type": "markdown",
   "metadata": {},
   "source": [
    "#### SELECT"
   ]
  },
  {
   "cell_type": "code",
   "execution_count": 2,
   "metadata": {},
   "outputs": [
    {
     "name": "stdout",
     "output_type": "stream",
     "text": [
      " * sqlite:///company_database.db\n",
      "Done.\n"
     ]
    },
    {
     "data": {
      "text/html": [
       "<table>\n",
       "    <tr>\n",
       "        <th>emp_id</th>\n",
       "        <th>first_name</th>\n",
       "        <th>last_name</th>\n",
       "        <th>birth_day</th>\n",
       "        <th>sex</th>\n",
       "        <th>salary</th>\n",
       "        <th>super_id</th>\n",
       "        <th>branch_id</th>\n",
       "    </tr>\n",
       "    <tr>\n",
       "        <td>104</td>\n",
       "        <td>Kelly</td>\n",
       "        <td>Kapoor</td>\n",
       "        <td>1980-02-05</td>\n",
       "        <td>F</td>\n",
       "        <td>55000</td>\n",
       "        <td>102</td>\n",
       "        <td>2</td>\n",
       "    </tr>\n",
       "    <tr>\n",
       "        <td>103</td>\n",
       "        <td>Angela</td>\n",
       "        <td>Martin</td>\n",
       "        <td>1971-06-25</td>\n",
       "        <td>F</td>\n",
       "        <td>63000</td>\n",
       "        <td>102</td>\n",
       "        <td>2</td>\n",
       "    </tr>\n",
       "    <tr>\n",
       "        <td>107</td>\n",
       "        <td>Andy</td>\n",
       "        <td>Bernard</td>\n",
       "        <td>1973-07-22</td>\n",
       "        <td>M</td>\n",
       "        <td>65000</td>\n",
       "        <td>106</td>\n",
       "        <td>3</td>\n",
       "    </tr>\n",
       "    <tr>\n",
       "        <td>105</td>\n",
       "        <td>Stanley</td>\n",
       "        <td>Hudson</td>\n",
       "        <td>1958-02-19</td>\n",
       "        <td>M</td>\n",
       "        <td>69000</td>\n",
       "        <td>102</td>\n",
       "        <td>2</td>\n",
       "    </tr>\n",
       "    <tr>\n",
       "        <td>108</td>\n",
       "        <td>Jim</td>\n",
       "        <td>Halpert</td>\n",
       "        <td>1978-10-01</td>\n",
       "        <td>M</td>\n",
       "        <td>71000</td>\n",
       "        <td>106</td>\n",
       "        <td>3</td>\n",
       "    </tr>\n",
       "    <tr>\n",
       "        <td>102</td>\n",
       "        <td>Michael</td>\n",
       "        <td>Scott</td>\n",
       "        <td>1964-03-15</td>\n",
       "        <td>M</td>\n",
       "        <td>75000</td>\n",
       "        <td>100</td>\n",
       "        <td>2</td>\n",
       "    </tr>\n",
       "    <tr>\n",
       "        <td>106</td>\n",
       "        <td>Josh</td>\n",
       "        <td>Porter</td>\n",
       "        <td>1969-09-05</td>\n",
       "        <td>M</td>\n",
       "        <td>78000</td>\n",
       "        <td>100</td>\n",
       "        <td>3</td>\n",
       "    </tr>\n",
       "    <tr>\n",
       "        <td>101</td>\n",
       "        <td>Jan</td>\n",
       "        <td>Levinson</td>\n",
       "        <td>1961-05-11</td>\n",
       "        <td>F</td>\n",
       "        <td>110000</td>\n",
       "        <td>100</td>\n",
       "        <td>1</td>\n",
       "    </tr>\n",
       "    <tr>\n",
       "        <td>100</td>\n",
       "        <td>David</td>\n",
       "        <td>Wallace</td>\n",
       "        <td>1967-11-17</td>\n",
       "        <td>M</td>\n",
       "        <td>250000</td>\n",
       "        <td>None</td>\n",
       "        <td>1</td>\n",
       "    </tr>\n",
       "</table>"
      ],
      "text/plain": [
       "[(104, 'Kelly', 'Kapoor', '1980-02-05', 'F', 55000, 102, 2),\n",
       " (103, 'Angela', 'Martin', '1971-06-25', 'F', 63000, 102, 2),\n",
       " (107, 'Andy', 'Bernard', '1973-07-22', 'M', 65000, 106, 3),\n",
       " (105, 'Stanley', 'Hudson', '1958-02-19', 'M', 69000, 102, 2),\n",
       " (108, 'Jim', 'Halpert', '1978-10-01', 'M', 71000, 106, 3),\n",
       " (102, 'Michael', 'Scott', '1964-03-15', 'M', 75000, 100, 2),\n",
       " (106, 'Josh', 'Porter', '1969-09-05', 'M', 78000, 100, 3),\n",
       " (101, 'Jan', 'Levinson', '1961-05-11', 'F', 110000, 100, 1),\n",
       " (100, 'David', 'Wallace', '1967-11-17', 'M', 250000, None, 1)]"
      ]
     },
     "execution_count": 2,
     "metadata": {},
     "output_type": "execute_result"
    }
   ],
   "source": [
    "%%sql\n",
    "-- Find all employees ordered by salary\n",
    "SELECT *\n",
    "FROM employee\n",
    "ORDER BY salary;"
   ]
  },
  {
   "cell_type": "code",
   "execution_count": 3,
   "metadata": {},
   "outputs": [
    {
     "name": "stdout",
     "output_type": "stream",
     "text": [
      " * sqlite:///company_database.db\n",
      "Done.\n"
     ]
    },
    {
     "data": {
      "text/html": [
       "<table>\n",
       "    <tr>\n",
       "        <th>emp_id</th>\n",
       "        <th>first_name</th>\n",
       "        <th>last_name</th>\n",
       "        <th>birth_day</th>\n",
       "        <th>sex</th>\n",
       "        <th>salary</th>\n",
       "        <th>super_id</th>\n",
       "        <th>branch_id</th>\n",
       "    </tr>\n",
       "    <tr>\n",
       "        <td>103</td>\n",
       "        <td>Angela</td>\n",
       "        <td>Martin</td>\n",
       "        <td>1971-06-25</td>\n",
       "        <td>F</td>\n",
       "        <td>63000</td>\n",
       "        <td>102</td>\n",
       "        <td>2</td>\n",
       "    </tr>\n",
       "    <tr>\n",
       "        <td>101</td>\n",
       "        <td>Jan</td>\n",
       "        <td>Levinson</td>\n",
       "        <td>1961-05-11</td>\n",
       "        <td>F</td>\n",
       "        <td>110000</td>\n",
       "        <td>100</td>\n",
       "        <td>1</td>\n",
       "    </tr>\n",
       "    <tr>\n",
       "        <td>104</td>\n",
       "        <td>Kelly</td>\n",
       "        <td>Kapoor</td>\n",
       "        <td>1980-02-05</td>\n",
       "        <td>F</td>\n",
       "        <td>55000</td>\n",
       "        <td>102</td>\n",
       "        <td>2</td>\n",
       "    </tr>\n",
       "    <tr>\n",
       "        <td>107</td>\n",
       "        <td>Andy</td>\n",
       "        <td>Bernard</td>\n",
       "        <td>1973-07-22</td>\n",
       "        <td>M</td>\n",
       "        <td>65000</td>\n",
       "        <td>106</td>\n",
       "        <td>3</td>\n",
       "    </tr>\n",
       "    <tr>\n",
       "        <td>100</td>\n",
       "        <td>David</td>\n",
       "        <td>Wallace</td>\n",
       "        <td>1967-11-17</td>\n",
       "        <td>M</td>\n",
       "        <td>250000</td>\n",
       "        <td>None</td>\n",
       "        <td>1</td>\n",
       "    </tr>\n",
       "    <tr>\n",
       "        <td>108</td>\n",
       "        <td>Jim</td>\n",
       "        <td>Halpert</td>\n",
       "        <td>1978-10-01</td>\n",
       "        <td>M</td>\n",
       "        <td>71000</td>\n",
       "        <td>106</td>\n",
       "        <td>3</td>\n",
       "    </tr>\n",
       "    <tr>\n",
       "        <td>106</td>\n",
       "        <td>Josh</td>\n",
       "        <td>Porter</td>\n",
       "        <td>1969-09-05</td>\n",
       "        <td>M</td>\n",
       "        <td>78000</td>\n",
       "        <td>100</td>\n",
       "        <td>3</td>\n",
       "    </tr>\n",
       "    <tr>\n",
       "        <td>102</td>\n",
       "        <td>Michael</td>\n",
       "        <td>Scott</td>\n",
       "        <td>1964-03-15</td>\n",
       "        <td>M</td>\n",
       "        <td>75000</td>\n",
       "        <td>100</td>\n",
       "        <td>2</td>\n",
       "    </tr>\n",
       "    <tr>\n",
       "        <td>105</td>\n",
       "        <td>Stanley</td>\n",
       "        <td>Hudson</td>\n",
       "        <td>1958-02-19</td>\n",
       "        <td>M</td>\n",
       "        <td>69000</td>\n",
       "        <td>102</td>\n",
       "        <td>2</td>\n",
       "    </tr>\n",
       "</table>"
      ],
      "text/plain": [
       "[(103, 'Angela', 'Martin', '1971-06-25', 'F', 63000, 102, 2),\n",
       " (101, 'Jan', 'Levinson', '1961-05-11', 'F', 110000, 100, 1),\n",
       " (104, 'Kelly', 'Kapoor', '1980-02-05', 'F', 55000, 102, 2),\n",
       " (107, 'Andy', 'Bernard', '1973-07-22', 'M', 65000, 106, 3),\n",
       " (100, 'David', 'Wallace', '1967-11-17', 'M', 250000, None, 1),\n",
       " (108, 'Jim', 'Halpert', '1978-10-01', 'M', 71000, 106, 3),\n",
       " (106, 'Josh', 'Porter', '1969-09-05', 'M', 78000, 100, 3),\n",
       " (102, 'Michael', 'Scott', '1964-03-15', 'M', 75000, 100, 2),\n",
       " (105, 'Stanley', 'Hudson', '1958-02-19', 'M', 69000, 102, 2)]"
      ]
     },
     "execution_count": 3,
     "metadata": {},
     "output_type": "execute_result"
    }
   ],
   "source": [
    "%%sql\n",
    "-- Find all employees ordered by sex then name.\n",
    "SELECT *\n",
    "FROM employee\n",
    "ORDER BY sex, first_name, last_name;"
   ]
  },
  {
   "cell_type": "code",
   "execution_count": 4,
   "metadata": {},
   "outputs": [
    {
     "name": "stdout",
     "output_type": "stream",
     "text": [
      " * sqlite:///company_database.db\n",
      "Done.\n"
     ]
    },
    {
     "data": {
      "text/html": [
       "<table>\n",
       "    <tr>\n",
       "        <th>Forename</th>\n",
       "        <th>Surname</th>\n",
       "    </tr>\n",
       "    <tr>\n",
       "        <td>David</td>\n",
       "        <td>Wallace</td>\n",
       "    </tr>\n",
       "    <tr>\n",
       "        <td>Jan</td>\n",
       "        <td>Levinson</td>\n",
       "    </tr>\n",
       "    <tr>\n",
       "        <td>Michael</td>\n",
       "        <td>Scott</td>\n",
       "    </tr>\n",
       "    <tr>\n",
       "        <td>Angela</td>\n",
       "        <td>Martin</td>\n",
       "    </tr>\n",
       "    <tr>\n",
       "        <td>Kelly</td>\n",
       "        <td>Kapoor</td>\n",
       "    </tr>\n",
       "</table>"
      ],
      "text/plain": [
       "[('David', 'Wallace'),\n",
       " ('Jan', 'Levinson'),\n",
       " ('Michael', 'Scott'),\n",
       " ('Angela', 'Martin'),\n",
       " ('Kelly', 'Kapoor')]"
      ]
     },
     "execution_count": 4,
     "metadata": {},
     "output_type": "execute_result"
    }
   ],
   "source": [
    "%%sql\n",
    "-- Find the first name and last name of first 5 employees in the table.\n",
    "SELECT first_name as Forename, last_name as Surname\n",
    "FROM employee\n",
    "LIMIT 5;"
   ]
  },
  {
   "cell_type": "code",
   "execution_count": 5,
   "metadata": {},
   "outputs": [
    {
     "name": "stdout",
     "output_type": "stream",
     "text": [
      " * sqlite:///company_database.db\n",
      "Done.\n"
     ]
    },
    {
     "data": {
      "text/html": [
       "<table>\n",
       "    <tr>\n",
       "        <th>sex</th>\n",
       "    </tr>\n",
       "    <tr>\n",
       "        <td>M</td>\n",
       "    </tr>\n",
       "    <tr>\n",
       "        <td>F</td>\n",
       "    </tr>\n",
       "</table>"
      ],
      "text/plain": [
       "[('M',), ('F',)]"
      ]
     },
     "execution_count": 5,
     "metadata": {},
     "output_type": "execute_result"
    }
   ],
   "source": [
    "%%sql\n",
    "-- Find out all the different genders in employee table\n",
    "SELECT DISTINCT sex\n",
    "FROM employee;"
   ]
  },
  {
   "attachments": {},
   "cell_type": "markdown",
   "metadata": {},
   "source": [
    "#### SQL Functions"
   ]
  },
  {
   "cell_type": "code",
   "execution_count": 6,
   "metadata": {},
   "outputs": [
    {
     "name": "stdout",
     "output_type": "stream",
     "text": [
      " * sqlite:///company_database.db\n",
      "Done.\n"
     ]
    },
    {
     "data": {
      "text/html": [
       "<table>\n",
       "    <tr>\n",
       "        <th>total_employees</th>\n",
       "    </tr>\n",
       "    <tr>\n",
       "        <td>9</td>\n",
       "    </tr>\n",
       "</table>"
      ],
      "text/plain": [
       "[(9,)]"
      ]
     },
     "execution_count": 6,
     "metadata": {},
     "output_type": "execute_result"
    }
   ],
   "source": [
    "%%sql \n",
    "-- Find the number of employees.\n",
    "SELECT COUNT(emp_id) as total_employees\n",
    "FROM employee;"
   ]
  },
  {
   "cell_type": "code",
   "execution_count": 7,
   "metadata": {},
   "outputs": [
    {
     "name": "stdout",
     "output_type": "stream",
     "text": [
      " * sqlite:///company_database.db\n",
      "Done.\n"
     ]
    },
    {
     "data": {
      "text/html": [
       "<table>\n",
       "    <tr>\n",
       "        <th>total_female_employees</th>\n",
       "    </tr>\n",
       "    <tr>\n",
       "        <td>2</td>\n",
       "    </tr>\n",
       "</table>"
      ],
      "text/plain": [
       "[(2,)]"
      ]
     },
     "execution_count": 7,
     "metadata": {},
     "output_type": "execute_result"
    }
   ],
   "source": [
    "%%sql\n",
    "-- Find the number of female employees born after 1970.\n",
    "SELECT COUNT(emp_id) as total_female_employees\n",
    "FROM employee\n",
    "WHERE sex='F' and birth_day > '1971-01-01'; "
   ]
  },
  {
   "cell_type": "code",
   "execution_count": 8,
   "metadata": {},
   "outputs": [
    {
     "name": "stdout",
     "output_type": "stream",
     "text": [
      " * sqlite:///company_database.db\n",
      "Done.\n"
     ]
    },
    {
     "data": {
      "text/html": [
       "<table>\n",
       "    <tr>\n",
       "        <th>avg_salary</th>\n",
       "    </tr>\n",
       "    <tr>\n",
       "        <td>101333.33333333333</td>\n",
       "    </tr>\n",
       "</table>"
      ],
      "text/plain": [
       "[(101333.33333333333,)]"
      ]
     },
     "execution_count": 8,
     "metadata": {},
     "output_type": "execute_result"
    }
   ],
   "source": [
    "%%sql \n",
    "-- Find the average of all male employee salaries.\n",
    "SELECT AVG(salary) as avg_salary \n",
    "FROM employee\n",
    "WHERE sex='M';"
   ]
  },
  {
   "cell_type": "code",
   "execution_count": 9,
   "metadata": {},
   "outputs": [
    {
     "name": "stdout",
     "output_type": "stream",
     "text": [
      " * sqlite:///company_database.db\n",
      "Done.\n"
     ]
    },
    {
     "data": {
      "text/html": [
       "<table>\n",
       "    <tr>\n",
       "        <th>total_sum</th>\n",
       "    </tr>\n",
       "    <tr>\n",
       "        <td>836000</td>\n",
       "    </tr>\n",
       "</table>"
      ],
      "text/plain": [
       "[(836000,)]"
      ]
     },
     "execution_count": 9,
     "metadata": {},
     "output_type": "execute_result"
    }
   ],
   "source": [
    "%%sql\n",
    "-- Find the sum of all employee salaries.\n",
    "SELECT SUM(salary) as total_sum\n",
    "FROM employee;"
   ]
  },
  {
   "attachments": {},
   "cell_type": "markdown",
   "metadata": {},
   "source": [
    "#### GROUP BY"
   ]
  },
  {
   "cell_type": "code",
   "execution_count": 10,
   "metadata": {},
   "outputs": [
    {
     "name": "stdout",
     "output_type": "stream",
     "text": [
      " * sqlite:///company_database.db\n",
      "Done.\n"
     ]
    },
    {
     "data": {
      "text/html": [
       "<table>\n",
       "    <tr>\n",
       "        <th>COUNT(sex)</th>\n",
       "        <th>sex</th>\n",
       "    </tr>\n",
       "    <tr>\n",
       "        <td>3</td>\n",
       "        <td>F</td>\n",
       "    </tr>\n",
       "    <tr>\n",
       "        <td>6</td>\n",
       "        <td>M</td>\n",
       "    </tr>\n",
       "</table>"
      ],
      "text/plain": [
       "[(3, 'F'), (6, 'M')]"
      ]
     },
     "execution_count": 10,
     "metadata": {},
     "output_type": "execute_result"
    }
   ],
   "source": [
    "%%sql\n",
    "-- Find out how many males and females there are\n",
    "SELECT COUNT(sex), sex\n",
    "FROM employee\n",
    "GROUP BY sex;"
   ]
  },
  {
   "cell_type": "code",
   "execution_count": 11,
   "metadata": {},
   "outputs": [
    {
     "name": "stdout",
     "output_type": "stream",
     "text": [
      " * sqlite:///company_database.db\n",
      "Done.\n"
     ]
    },
    {
     "data": {
      "text/html": [
       "<table>\n",
       "    <tr>\n",
       "        <th>emp_id</th>\n",
       "        <th>TotalSales</th>\n",
       "    </tr>\n",
       "    <tr>\n",
       "        <td>102</td>\n",
       "        <td>282000</td>\n",
       "    </tr>\n",
       "    <tr>\n",
       "        <td>105</td>\n",
       "        <td>218000</td>\n",
       "    </tr>\n",
       "    <tr>\n",
       "        <td>107</td>\n",
       "        <td>31000</td>\n",
       "    </tr>\n",
       "    <tr>\n",
       "        <td>108</td>\n",
       "        <td>34500</td>\n",
       "    </tr>\n",
       "</table>"
      ],
      "text/plain": [
       "[(102, 282000), (105, 218000), (107, 31000), (108, 34500)]"
      ]
     },
     "execution_count": 11,
     "metadata": {},
     "output_type": "execute_result"
    }
   ],
   "source": [
    "%%sql\n",
    "-- Find the total sales of each salesman.\n",
    "SELECT emp_id, SUM(total_sales) as TotalSales\n",
    "FROM works_with\n",
    "GROUP BY emp_id; "
   ]
  },
  {
   "attachments": {},
   "cell_type": "markdown",
   "metadata": {},
   "source": [
    "#### WildCards"
   ]
  },
  {
   "attachments": {},
   "cell_type": "markdown",
   "metadata": {},
   "source": [
    "% : Any # characters. <br>\n",
    "_ : One character."
   ]
  },
  {
   "cell_type": "code",
   "execution_count": 12,
   "metadata": {},
   "outputs": [
    {
     "name": "stdout",
     "output_type": "stream",
     "text": [
      " * sqlite:///company_database.db\n",
      "Done.\n"
     ]
    },
    {
     "data": {
      "text/html": [
       "<table>\n",
       "    <tr>\n",
       "        <th>client_id</th>\n",
       "        <th>client_name</th>\n",
       "        <th>branch_id</th>\n",
       "    </tr>\n",
       "    <tr>\n",
       "        <td>403</td>\n",
       "        <td>John Daly Law, LLC</td>\n",
       "        <td>3</td>\n",
       "    </tr>\n",
       "</table>"
      ],
      "text/plain": [
       "[(403, 'John Daly Law, LLC', 3)]"
      ]
     },
     "execution_count": 12,
     "metadata": {},
     "output_type": "execute_result"
    }
   ],
   "source": [
    "%%sql\n",
    "-- Find any clients who are an LLC\n",
    "SELECT *\n",
    "FROM client\n",
    "WHERE client_name LIKE '%LLC';\n"
   ]
  },
  {
   "cell_type": "code",
   "execution_count": 13,
   "metadata": {},
   "outputs": [
    {
     "name": "stdout",
     "output_type": "stream",
     "text": [
      " * sqlite:///company_database.db\n",
      "Done.\n"
     ]
    },
    {
     "data": {
      "text/html": [
       "<table>\n",
       "    <tr>\n",
       "        <th>branch_id</th>\n",
       "        <th>supplier_name</th>\n",
       "        <th>supply_type</th>\n",
       "    </tr>\n",
       "    <tr>\n",
       "        <td>2</td>\n",
       "        <td>J.T. Forms &amp; Labels</td>\n",
       "        <td>Custom Forms</td>\n",
       "    </tr>\n",
       "</table>"
      ],
      "text/plain": [
       "[(2, 'J.T. Forms & Labels', 'Custom Forms')]"
      ]
     },
     "execution_count": 13,
     "metadata": {},
     "output_type": "execute_result"
    }
   ],
   "source": [
    "%%sql\n",
    "-- Find any branch suppliers who are in the label business\n",
    "SELECT * \n",
    "FROM branch_supplier\n",
    "WHERE supplier_name LIKE '% Label%';"
   ]
  },
  {
   "cell_type": "code",
   "execution_count": 14,
   "metadata": {},
   "outputs": [
    {
     "name": "stdout",
     "output_type": "stream",
     "text": [
      " * sqlite:///company_database.db\n",
      "Done.\n"
     ]
    },
    {
     "data": {
      "text/html": [
       "<table>\n",
       "    <tr>\n",
       "        <th>emp_id</th>\n",
       "        <th>first_name</th>\n",
       "        <th>last_name</th>\n",
       "        <th>birth_day</th>\n",
       "        <th>sex</th>\n",
       "        <th>salary</th>\n",
       "        <th>super_id</th>\n",
       "        <th>branch_id</th>\n",
       "    </tr>\n",
       "    <tr>\n",
       "        <td>108</td>\n",
       "        <td>Jim</td>\n",
       "        <td>Halpert</td>\n",
       "        <td>1978-10-01</td>\n",
       "        <td>M</td>\n",
       "        <td>71000</td>\n",
       "        <td>106</td>\n",
       "        <td>3</td>\n",
       "    </tr>\n",
       "</table>"
      ],
      "text/plain": [
       "[(108, 'Jim', 'Halpert', '1978-10-01', 'M', 71000, 106, 3)]"
      ]
     },
     "execution_count": 14,
     "metadata": {},
     "output_type": "execute_result"
    }
   ],
   "source": [
    "%%sql\n",
    "-- Find any employee born in October\n",
    "SELECT *\n",
    "FROM employee\n",
    "WHERE birth_day LIKE \"%-10-%\""
   ]
  },
  {
   "cell_type": "code",
   "execution_count": 15,
   "metadata": {},
   "outputs": [
    {
     "name": "stdout",
     "output_type": "stream",
     "text": [
      " * sqlite:///company_database.db\n",
      "Done.\n"
     ]
    },
    {
     "data": {
      "text/html": [
       "<table>\n",
       "    <tr>\n",
       "        <th>client_id</th>\n",
       "        <th>client_name</th>\n",
       "        <th>branch_id</th>\n",
       "    </tr>\n",
       "    <tr>\n",
       "        <td>400</td>\n",
       "        <td>Dunmore Highschool</td>\n",
       "        <td>2</td>\n",
       "    </tr>\n",
       "</table>"
      ],
      "text/plain": [
       "[(400, 'Dunmore Highschool', 2)]"
      ]
     },
     "execution_count": 15,
     "metadata": {},
     "output_type": "execute_result"
    }
   ],
   "source": [
    "%%sql\n",
    "-- Find any clients who are schools\n",
    "SELECT * \n",
    "FROM client\n",
    "WHERE client_name LIKE '%school%';"
   ]
  },
  {
   "attachments": {},
   "cell_type": "markdown",
   "metadata": {},
   "source": [
    "#### Unions"
   ]
  },
  {
   "attachments": {},
   "cell_type": "markdown",
   "metadata": {},
   "source": [
    "Unions is a sql operator which we can use to combine the results from multiple select statements into one. <br>\n",
    "Must have same number of columns and data types. "
   ]
  },
  {
   "cell_type": "code",
   "execution_count": 16,
   "metadata": {},
   "outputs": [
    {
     "name": "stdout",
     "output_type": "stream",
     "text": [
      " * sqlite:///company_database.db\n",
      "Done.\n"
     ]
    },
    {
     "data": {
      "text/html": [
       "<table>\n",
       "    <tr>\n",
       "        <th>Result_Names</th>\n",
       "    </tr>\n",
       "    <tr>\n",
       "        <td>Andy</td>\n",
       "    </tr>\n",
       "    <tr>\n",
       "        <td>Angela</td>\n",
       "    </tr>\n",
       "    <tr>\n",
       "        <td>Buffalo</td>\n",
       "    </tr>\n",
       "    <tr>\n",
       "        <td>Corporate</td>\n",
       "    </tr>\n",
       "    <tr>\n",
       "        <td>David</td>\n",
       "    </tr>\n",
       "    <tr>\n",
       "        <td>Dunmore Highschool</td>\n",
       "    </tr>\n",
       "    <tr>\n",
       "        <td>FedEx</td>\n",
       "    </tr>\n",
       "    <tr>\n",
       "        <td>Jan</td>\n",
       "    </tr>\n",
       "    <tr>\n",
       "        <td>Jim</td>\n",
       "    </tr>\n",
       "    <tr>\n",
       "        <td>John Daly Law, LLC</td>\n",
       "    </tr>\n",
       "    <tr>\n",
       "        <td>Josh</td>\n",
       "    </tr>\n",
       "    <tr>\n",
       "        <td>Kelly</td>\n",
       "    </tr>\n",
       "    <tr>\n",
       "        <td>Lackawana Country</td>\n",
       "    </tr>\n",
       "    <tr>\n",
       "        <td>Michael</td>\n",
       "    </tr>\n",
       "    <tr>\n",
       "        <td>Scranton</td>\n",
       "    </tr>\n",
       "    <tr>\n",
       "        <td>Scranton Whitepages</td>\n",
       "    </tr>\n",
       "    <tr>\n",
       "        <td>Stamford</td>\n",
       "    </tr>\n",
       "    <tr>\n",
       "        <td>Stanley</td>\n",
       "    </tr>\n",
       "    <tr>\n",
       "        <td>Times Newspaper</td>\n",
       "    </tr>\n",
       "</table>"
      ],
      "text/plain": [
       "[('Andy',),\n",
       " ('Angela',),\n",
       " ('Buffalo',),\n",
       " ('Corporate',),\n",
       " ('David',),\n",
       " ('Dunmore Highschool',),\n",
       " ('FedEx',),\n",
       " ('Jan',),\n",
       " ('Jim',),\n",
       " ('John Daly Law, LLC',),\n",
       " ('Josh',),\n",
       " ('Kelly',),\n",
       " ('Lackawana Country',),\n",
       " ('Michael',),\n",
       " ('Scranton',),\n",
       " ('Scranton Whitepages',),\n",
       " ('Stamford',),\n",
       " ('Stanley',),\n",
       " ('Times Newspaper',)]"
      ]
     },
     "execution_count": 16,
     "metadata": {},
     "output_type": "execute_result"
    }
   ],
   "source": [
    "%%sql\n",
    "-- Find a list of employee and branch names\n",
    "SELECT first_name AS Result_Names\n",
    "FROM employee\n",
    "UNION\n",
    "SELECT branch_name\n",
    "FROM branch\n",
    "UNION\n",
    "SELECT client_name \n",
    "FROM client;"
   ]
  },
  {
   "attachments": {},
   "cell_type": "markdown",
   "metadata": {},
   "source": [
    "#### Joins\n",
    "<img src=\"https://miro.medium.com/max/828/0*gdxxtAKE9vYAjXBk.webp\" alt=\"Drawing\" style=\"width: 900px; height: 650px\"/>"
   ]
  },
  {
   "attachments": {},
   "cell_type": "markdown",
   "metadata": {},
   "source": [
    "A JOIN is used to map together two tables on the basis of a condition specified by the ON clause. <br>\n",
    " After the FROM statement, we have two new statements: JOIN, which is followed by a table name, and ON, which is followed by a couple column names separated by an equals sign."
   ]
  },
  {
   "attachments": {},
   "cell_type": "markdown",
   "metadata": {},
   "source": [
    "INNER JOIN <br>\n",
    "Inner joins eliminate rows from both tables that do not satisfy the join condition set forth in the ON statement. In mathematical terms, an inner join is the intersection of the two tables. <br>\n",
    "\n",
    "\n",
    "OUTER JOIN <br>\n",
    "When performing an inner join, rows from either table that are unmatched in the other table are not returned. In an outer join, unmatched rows in one or both tables can be returned. There are a few types of outer joins: <br>\n",
    "\n",
    "LEFT JOIN returns only unmatched rows from the left table. <br>\n",
    "RIGHT JOIN returns only unmatched rows from the right table. <br>\n",
    "FULL OUTER JOIN returns unmatched rows from both tables."
   ]
  },
  {
   "cell_type": "code",
   "execution_count": 17,
   "metadata": {},
   "outputs": [
    {
     "name": "stdout",
     "output_type": "stream",
     "text": [
      " * sqlite:///company_database.db\n",
      "Done.\n"
     ]
    },
    {
     "data": {
      "text/html": [
       "<table>\n",
       "    <tr>\n",
       "        <th>emp_id</th>\n",
       "        <th>first_name</th>\n",
       "        <th>branch_name</th>\n",
       "    </tr>\n",
       "    <tr>\n",
       "        <td>100</td>\n",
       "        <td>David</td>\n",
       "        <td>Corporate</td>\n",
       "    </tr>\n",
       "    <tr>\n",
       "        <td>102</td>\n",
       "        <td>Michael</td>\n",
       "        <td>Scranton</td>\n",
       "    </tr>\n",
       "    <tr>\n",
       "        <td>106</td>\n",
       "        <td>Josh</td>\n",
       "        <td>Stamford</td>\n",
       "    </tr>\n",
       "</table>"
      ],
      "text/plain": [
       "[(100, 'David', 'Corporate'),\n",
       " (102, 'Michael', 'Scranton'),\n",
       " (106, 'Josh', 'Stamford')]"
      ]
     },
     "execution_count": 17,
     "metadata": {},
     "output_type": "execute_result"
    }
   ],
   "source": [
    "%%sql\n",
    "-- Find all branches and the name of their managers\n",
    "SELECT employee.emp_id, employee.first_name, branch.branch_name\n",
    "FROM employee\n",
    "JOIN branch\n",
    "ON employee.emp_id == branch.mgr_id;"
   ]
  },
  {
   "attachments": {},
   "cell_type": "markdown",
   "metadata": {},
   "source": [
    "#### Nested Queries"
   ]
  },
  {
   "cell_type": "code",
   "execution_count": 21,
   "metadata": {},
   "outputs": [
    {
     "name": "stdout",
     "output_type": "stream",
     "text": [
      " * sqlite:///company_database.db\n",
      "Done.\n"
     ]
    },
    {
     "data": {
      "text/html": [
       "<table>\n",
       "    <tr>\n",
       "        <th>first_name</th>\n",
       "        <th>last_name</th>\n",
       "    </tr>\n",
       "    <tr>\n",
       "        <td>Michael</td>\n",
       "        <td>Scott</td>\n",
       "    </tr>\n",
       "    <tr>\n",
       "        <td>Stanley</td>\n",
       "        <td>Hudson</td>\n",
       "    </tr>\n",
       "</table>"
      ],
      "text/plain": [
       "[('Michael', 'Scott'), ('Stanley', 'Hudson')]"
      ]
     },
     "execution_count": 21,
     "metadata": {},
     "output_type": "execute_result"
    }
   ],
   "source": [
    "%%sql\n",
    "-- Find names of all employees who have sold over 30,000 to a single client.\n",
    "SELECT employee.first_name, employee.last_name\n",
    "FROM employee\n",
    "WHERE employee.emp_id IN (\n",
    "SELECT works_with.emp_id\n",
    "FROM works_with\n",
    "WHERE total_sales > 30000\n",
    ");\n"
   ]
  },
  {
   "cell_type": "code",
   "execution_count": 26,
   "metadata": {},
   "outputs": [
    {
     "name": "stdout",
     "output_type": "stream",
     "text": [
      " * sqlite:///company_database.db\n",
      "Done.\n"
     ]
    },
    {
     "data": {
      "text/html": [
       "<table>\n",
       "    <tr>\n",
       "        <th>client_name</th>\n",
       "    </tr>\n",
       "    <tr>\n",
       "        <td>Dunmore Highschool</td>\n",
       "    </tr>\n",
       "    <tr>\n",
       "        <td>Lackawana Country</td>\n",
       "    </tr>\n",
       "    <tr>\n",
       "        <td>Scranton Whitepages</td>\n",
       "    </tr>\n",
       "    <tr>\n",
       "        <td>FedEx</td>\n",
       "    </tr>\n",
       "</table>"
      ],
      "text/plain": [
       "[('Dunmore Highschool',),\n",
       " ('Lackawana Country',),\n",
       " ('Scranton Whitepages',),\n",
       " ('FedEx',)]"
      ]
     },
     "execution_count": 26,
     "metadata": {},
     "output_type": "execute_result"
    }
   ],
   "source": [
    "%%sql\n",
    "-- Find all clients who are handled by the branch that Micheal Scott Manages assume you know michael id\n",
    "SELECT client.client_name\n",
    "FROM client\n",
    "WHERE branch_id = (\n",
    "SELECT branch.branch_id \n",
    "FROM branch\n",
    "WHERE mgr_id=102\n",
    ");"
   ]
  },
  {
   "cell_type": "code",
   "execution_count": null,
   "metadata": {},
   "outputs": [],
   "source": []
  }
 ],
 "metadata": {
  "kernelspec": {
   "display_name": "Python 3",
   "language": "python",
   "name": "python3"
  },
  "language_info": {
   "codemirror_mode": {
    "name": "ipython",
    "version": 3
   },
   "file_extension": ".py",
   "mimetype": "text/x-python",
   "name": "python",
   "nbconvert_exporter": "python",
   "pygments_lexer": "ipython3",
   "version": "3.8.4"
  },
  "orig_nbformat": 4,
  "vscode": {
   "interpreter": {
    "hash": "9650cb4e16cdd4a8e8e2d128bf38d875813998db22a3c986335f89e0cb4d7bb2"
   }
  }
 },
 "nbformat": 4,
 "nbformat_minor": 2
}
